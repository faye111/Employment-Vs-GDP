{
 "cells": [
  {
   "cell_type": "code",
   "execution_count": 2,
   "metadata": {},
   "outputs": [],
   "source": [
    "import pandas as pd\n",
    "from sqlalchemy import create_engine"
   ]
  },
  {
   "cell_type": "code",
   "execution_count": 3,
   "metadata": {},
   "outputs": [],
   "source": [
    "employ_file= \"DP_LIVE_06082019033543494.csv\""
   ]
  },
  {
   "cell_type": "code",
   "execution_count": 6,
   "metadata": {},
   "outputs": [
    {
     "data": {
      "text/html": [
       "<div>\n",
       "<style scoped>\n",
       "    .dataframe tbody tr th:only-of-type {\n",
       "        vertical-align: middle;\n",
       "    }\n",
       "\n",
       "    .dataframe tbody tr th {\n",
       "        vertical-align: top;\n",
       "    }\n",
       "\n",
       "    .dataframe thead th {\n",
       "        text-align: right;\n",
       "    }\n",
       "</style>\n",
       "<table border=\"1\" class=\"dataframe\">\n",
       "  <thead>\n",
       "    <tr style=\"text-align: right;\">\n",
       "      <th></th>\n",
       "      <th>LOCATION</th>\n",
       "      <th>INDICATOR</th>\n",
       "      <th>SUBJECT</th>\n",
       "      <th>MEASURE</th>\n",
       "      <th>FREQUENCY</th>\n",
       "      <th>TIME</th>\n",
       "      <th>Value</th>\n",
       "      <th>Flag Codes</th>\n",
       "    </tr>\n",
       "  </thead>\n",
       "  <tbody>\n",
       "    <tr>\n",
       "      <th>0</th>\n",
       "      <td>AUS</td>\n",
       "      <td>EMP</td>\n",
       "      <td>MEN</td>\n",
       "      <td>THND_PER</td>\n",
       "      <td>A</td>\n",
       "      <td>1965</td>\n",
       "      <td>3346.5</td>\n",
       "      <td>NaN</td>\n",
       "    </tr>\n",
       "    <tr>\n",
       "      <th>1</th>\n",
       "      <td>AUS</td>\n",
       "      <td>EMP</td>\n",
       "      <td>MEN</td>\n",
       "      <td>THND_PER</td>\n",
       "      <td>A</td>\n",
       "      <td>1966</td>\n",
       "      <td>3362.5</td>\n",
       "      <td>NaN</td>\n",
       "    </tr>\n",
       "    <tr>\n",
       "      <th>2</th>\n",
       "      <td>AUS</td>\n",
       "      <td>EMP</td>\n",
       "      <td>MEN</td>\n",
       "      <td>THND_PER</td>\n",
       "      <td>A</td>\n",
       "      <td>1967</td>\n",
       "      <td>3412.5</td>\n",
       "      <td>NaN</td>\n",
       "    </tr>\n",
       "    <tr>\n",
       "      <th>3</th>\n",
       "      <td>AUS</td>\n",
       "      <td>EMP</td>\n",
       "      <td>MEN</td>\n",
       "      <td>THND_PER</td>\n",
       "      <td>A</td>\n",
       "      <td>1968</td>\n",
       "      <td>3474.0</td>\n",
       "      <td>NaN</td>\n",
       "    </tr>\n",
       "    <tr>\n",
       "      <th>4</th>\n",
       "      <td>AUS</td>\n",
       "      <td>EMP</td>\n",
       "      <td>MEN</td>\n",
       "      <td>THND_PER</td>\n",
       "      <td>A</td>\n",
       "      <td>1969</td>\n",
       "      <td>3548.0</td>\n",
       "      <td>NaN</td>\n",
       "    </tr>\n",
       "  </tbody>\n",
       "</table>\n",
       "</div>"
      ],
      "text/plain": [
       "  LOCATION INDICATOR SUBJECT   MEASURE FREQUENCY  TIME   Value Flag Codes\n",
       "0      AUS       EMP     MEN  THND_PER         A  1965  3346.5        NaN\n",
       "1      AUS       EMP     MEN  THND_PER         A  1966  3362.5        NaN\n",
       "2      AUS       EMP     MEN  THND_PER         A  1967  3412.5        NaN\n",
       "3      AUS       EMP     MEN  THND_PER         A  1968  3474.0        NaN\n",
       "4      AUS       EMP     MEN  THND_PER         A  1969  3548.0        NaN"
      ]
     },
     "execution_count": 6,
     "metadata": {},
     "output_type": "execute_result"
    }
   ],
   "source": [
    "employ_df = pd.read_csv(employ_file)\n",
    "employ_df.head()\n"
   ]
  },
  {
   "cell_type": "code",
   "execution_count": 8,
   "metadata": {},
   "outputs": [
    {
     "data": {
      "text/html": [
       "<div>\n",
       "<style scoped>\n",
       "    .dataframe tbody tr th:only-of-type {\n",
       "        vertical-align: middle;\n",
       "    }\n",
       "\n",
       "    .dataframe tbody tr th {\n",
       "        vertical-align: top;\n",
       "    }\n",
       "\n",
       "    .dataframe thead th {\n",
       "        text-align: right;\n",
       "    }\n",
       "</style>\n",
       "<table border=\"1\" class=\"dataframe\">\n",
       "  <thead>\n",
       "    <tr style=\"text-align: right;\">\n",
       "      <th></th>\n",
       "      <th>LOCATION</th>\n",
       "      <th>INDICATOR</th>\n",
       "      <th>SUBJECT</th>\n",
       "      <th>TIME</th>\n",
       "      <th>Value</th>\n",
       "    </tr>\n",
       "  </thead>\n",
       "  <tbody>\n",
       "    <tr>\n",
       "      <th>0</th>\n",
       "      <td>AUS</td>\n",
       "      <td>EMP</td>\n",
       "      <td>MEN</td>\n",
       "      <td>1965</td>\n",
       "      <td>3346.5</td>\n",
       "    </tr>\n",
       "    <tr>\n",
       "      <th>1</th>\n",
       "      <td>AUS</td>\n",
       "      <td>EMP</td>\n",
       "      <td>MEN</td>\n",
       "      <td>1966</td>\n",
       "      <td>3362.5</td>\n",
       "    </tr>\n",
       "    <tr>\n",
       "      <th>2</th>\n",
       "      <td>AUS</td>\n",
       "      <td>EMP</td>\n",
       "      <td>MEN</td>\n",
       "      <td>1967</td>\n",
       "      <td>3412.5</td>\n",
       "    </tr>\n",
       "    <tr>\n",
       "      <th>3</th>\n",
       "      <td>AUS</td>\n",
       "      <td>EMP</td>\n",
       "      <td>MEN</td>\n",
       "      <td>1968</td>\n",
       "      <td>3474.0</td>\n",
       "    </tr>\n",
       "    <tr>\n",
       "      <th>4</th>\n",
       "      <td>AUS</td>\n",
       "      <td>EMP</td>\n",
       "      <td>MEN</td>\n",
       "      <td>1969</td>\n",
       "      <td>3548.0</td>\n",
       "    </tr>\n",
       "  </tbody>\n",
       "</table>\n",
       "</div>"
      ],
      "text/plain": [
       "  LOCATION INDICATOR SUBJECT  TIME   Value\n",
       "0      AUS       EMP     MEN  1965  3346.5\n",
       "1      AUS       EMP     MEN  1966  3362.5\n",
       "2      AUS       EMP     MEN  1967  3412.5\n",
       "3      AUS       EMP     MEN  1968  3474.0\n",
       "4      AUS       EMP     MEN  1969  3548.0"
      ]
     },
     "execution_count": 8,
     "metadata": {},
     "output_type": "execute_result"
    }
   ],
   "source": [
    "employ_new_df=employ_df[[\"LOCATION\",\"INDICATOR\",\"SUBJECT\",\"TIME\",\"Value\"]]\n",
    "employ_new_df.head()"
   ]
  },
  {
   "cell_type": "code",
   "execution_count": 10,
   "metadata": {},
   "outputs": [
    {
     "data": {
      "text/plain": [
       "<pandas.core.groupby.generic.DataFrameGroupBy object at 0x0000024F70874780>"
      ]
     },
     "execution_count": 10,
     "metadata": {},
     "output_type": "execute_result"
    }
   ],
   "source": [
    "employ_group=employ_new_df.groupby([\"LOCATION\"])\n",
    "employ_group"
   ]
  },
  {
   "cell_type": "code",
   "execution_count": null,
   "metadata": {},
   "outputs": [],
   "source": []
  }
 ],
 "metadata": {
  "kernelspec": {
   "display_name": "Python 3",
   "language": "python",
   "name": "python3"
  },
  "language_info": {
   "codemirror_mode": {
    "name": "ipython",
    "version": 3
   },
   "file_extension": ".py",
   "mimetype": "text/x-python",
   "name": "python",
   "nbconvert_exporter": "python",
   "pygments_lexer": "ipython3",
   "version": "3.7.3"
  }
 },
 "nbformat": 4,
 "nbformat_minor": 2
}
